{
 "metadata": {
  "language_info": {
   "codemirror_mode": {
    "name": "ipython",
    "version": 3
   },
   "file_extension": ".py",
   "mimetype": "text/x-python",
   "name": "python",
   "nbconvert_exporter": "python",
   "pygments_lexer": "ipython3",
   "version": "3.8.3-final"
  },
  "orig_nbformat": 2,
  "kernelspec": {
   "name": "Python 3.8.3 64-bit ('base': conda)",
   "display_name": "Python 3.8.3 64-bit ('base': conda)",
   "metadata": {
    "interpreter": {
     "hash": "dca0ade3e726a953b501b15e8e990130d2b7799f14cfd9f4271676035ebe5511"
    }
   }
  }
 },
 "nbformat": 4,
 "nbformat_minor": 2,
 "cells": [
  {
   "cell_type": "code",
   "execution_count": 19,
   "metadata": {},
   "outputs": [],
   "source": [
    "import requests\n",
    "import json"
   ]
  },
  {
   "cell_type": "code",
   "execution_count": 20,
   "metadata": {},
   "outputs": [],
   "source": [
    "url = \"https://official-joke-api.appspot.com/jokes/random\""
   ]
  },
  {
   "cell_type": "code",
   "execution_count": 21,
   "metadata": {},
   "outputs": [],
   "source": [
    "response_data  = requests.get(url)"
   ]
  },
  {
   "cell_type": "code",
   "execution_count": 25,
   "metadata": {},
   "outputs": [],
   "source": [
    "response_data = res.json()"
   ]
  },
  {
   "cell_type": "code",
   "execution_count": 31,
   "metadata": {},
   "outputs": [
    {
     "output_type": "execute_result",
     "data": {
      "text/plain": "b&#39;{&quot;id&quot;:380,&quot;type&quot;:&quot;programming&quot;,&quot;setup&quot;:&quot;There are 10 kinds of people in this world.&quot;,&quot;punchline&quot;:&quot;Those who understand binary, those who don\\&#39;t, and those who weren\\&#39;t expecting a base 3 joke.&quot;}&#39;"
     },
     "metadata": {},
     "execution_count": 31
    }
   ],
   "source": [
    "res.content"
   ]
  },
  {
   "cell_type": "code",
   "execution_count": 32,
   "metadata": {
    "tags": []
   },
   "outputs": [
    {
     "output_type": "stream",
     "name": "stdout",
     "text": "{\n    &quot;id&quot;: 91,\n    &quot;type&quot;: &quot;general&quot;,\n    &quot;setup&quot;: &quot;Did you hear about the guy whose whole left side was cut off?&quot;,\n    &quot;punchline&quot;: &quot;He&#39;s all right now.&quot;\n}\n"
    }
   ],
   "source": [
    "json_data = json.dumps(data, indent = 4)\n",
    "print(json_data)"
   ]
  },
  {
   "cell_type": "code",
   "execution_count": 33,
   "metadata": {
    "tags": []
   },
   "outputs": [
    {
     "output_type": "stream",
     "name": "stdout",
     "text": "{&#39;id&#39;: 380, &#39;type&#39;: &#39;programming&#39;, &#39;setup&#39;: &#39;There are 10 kinds of people in this world.&#39;, &#39;punchline&#39;: &quot;Those who understand binary, those who don&#39;t, and those who weren&#39;t expecting a base 3 joke.&quot;}\n"
    }
   ],
   "source": [
    "print(response_data)"
   ]
  },
  {
   "cell_type": "code",
   "execution_count": 37,
   "metadata": {
    "tags": []
   },
   "outputs": [
    {
     "output_type": "stream",
     "name": "stdout",
     "text": "Those who understand binary, those who don&#39;t, and those who weren&#39;t expecting a base 3 joke.\n"
    }
   ],
   "source": [
    "print(response_data [\"punchline\"])"
   ]
  },
  {
   "cell_type": "code",
   "execution_count": null,
   "metadata": {},
   "outputs": [],
   "source": []
  }
 ]
}