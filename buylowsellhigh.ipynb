{
 "metadata": {
  "language_info": {
   "codemirror_mode": {
    "name": "ipython",
    "version": 3
   },
   "file_extension": ".py",
   "mimetype": "text/x-python",
   "name": "python",
   "nbconvert_exporter": "python",
   "pygments_lexer": "ipython3",
   "version": "3.8.3-final"
  },
  "orig_nbformat": 2,
  "kernelspec": {
   "name": "python_defaultSpec_1601749579028",
   "display_name": "Python 3.8.3 64-bit ('base': conda)",
   "metadata": {
    "interpreter": {
     "hash": "dca0ade3e726a953b501b15e8e990130d2b7799f14cfd9f4271676035ebe5511"
    }
   }
  }
 },
 "nbformat": 4,
 "nbformat_minor": 2,
 "cells": [
  {
   "cell_type": "code",
   "execution_count": 68,
   "metadata": {},
   "outputs": [],
   "source": [
    "# Define a function\n",
    "# Stock prices are currently in chronological order\n",
    "# Function to identify lowest and highest stock price\n",
    "# find the profit if Xena were to have chosen the lowest and the highest stock prices\n",
    "\n",
    "\n",
    "def Stock_Max():\n",
    "    \n",
    "    stock_prices = [ 1.42, 1.32, 1.45, 1.20, 1.34, 1.74, 1.10, 1.89, 1.42, 1.90, 1.80, 1.85]\n",
    "    shares = 10000\n",
    "    minimum = min(stock_prices)\n",
    "    maximum = max(stock_prices)\n",
    "    \n",
    "\n",
    "    for stock in stock_prices:\n",
    "        if minimum == 0 and maximum == 0: \n",
    "            mimimum = stock\n",
    "            maximum = stock\n",
    "\n",
    "        elif stock < minimum:\n",
    "            minimum = stock\n",
    "        elif stock > maximum: \n",
    "            maximum = stock\n",
    "    profit = shares * (maximum - minimum)\n",
    "\n",
    "    return profit"
   ]
  },
  {
   "cell_type": "code",
   "execution_count": 71,
   "metadata": {
    "tags": []
   },
   "outputs": [
    {
     "output_type": "stream",
     "name": "stdout",
     "text": "Xena&#39;s profit could have been $8000.00\n"
    }
   ],
   "source": [
    "print(f\"Xena's profit could have been ${Stock_Max():.2f}\") "
   ]
  },
  {
   "cell_type": "code",
   "execution_count": null,
   "metadata": {},
   "outputs": [],
   "source": []
  }
 ]
}