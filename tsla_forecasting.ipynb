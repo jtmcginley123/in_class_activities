{
 "metadata": {
  "language_info": {
   "codemirror_mode": {
    "name": "ipython",
    "version": 3
   },
   "file_extension": ".py",
   "mimetype": "text/x-python",
   "name": "python",
   "nbconvert_exporter": "python",
   "pygments_lexer": "ipython3",
   "version": "3.8.3-final"
  },
  "orig_nbformat": 2,
  "kernelspec": {
   "name": "Python 3.8.3 64-bit ('base': conda)",
   "display_name": "Python 3.8.3 64-bit ('base': conda)",
   "metadata": {
    "interpreter": {
     "hash": "dca0ade3e726a953b501b15e8e990130d2b7799f14cfd9f4271676035ebe5511"
    }
   }
  }
 },
 "nbformat": 4,
 "nbformat_minor": 2,
 "cells": [
  {
   "cell_type": "code",
   "execution_count": 1,
   "metadata": {},
   "outputs": [],
   "source": [
    "import os\n",
    "import pandas as pd \n",
    "import alpaca_trade_api as tradeapi \n",
    "from MCForecastTools import MCSimulation"
   ]
  },
  {
   "cell_type": "code",
   "execution_count": 2,
   "metadata": {},
   "outputs": [
    {
     "output_type": "execute_result",
     "data": {
      "text/plain": [
       "True"
      ]
     },
     "metadata": {},
     "execution_count": 2
    }
   ],
   "source": [
    "from dotenv import load_dotenv\n",
    "load_dotenv()"
   ]
  },
  {
   "cell_type": "code",
   "execution_count": 3,
   "metadata": {},
   "outputs": [],
   "source": [
    "alpaca_api_key = os.getenv(\"ALPACA_API_KEY\")\n",
    "alpaca_secret_key = os.getenv(\"ALPACA_SECRET_KEY\")\n",
    "\n",
    "\n",
    "alpaca = tradeapi.REST(\n",
    "    alpaca_api_key,\n",
    "    alpaca_secret_key,\n",
    "    api_version=\"v2\"\n",
    ")"
   ]
  },
  {
   "cell_type": "code",
   "execution_count": 10,
   "metadata": {},
   "outputs": [
    {
     "output_type": "execute_result",
     "data": {
      "text/plain": [
       "                             TSLA                                       \n",
       "                             open      high       low    close    volume\n",
       "2019-05-01 00:00:00-04:00  239.00  240.0000  231.5000  234.010  10324457\n",
       "2019-05-02 00:00:00-04:00  245.52  247.1300  237.7200  244.080  14881930\n",
       "2019-05-03 00:00:00-04:00  243.86  256.6100  243.4900  255.040  21063497\n",
       "2019-05-06 00:00:00-04:00  250.10  258.3499  248.5000  255.335   9546203\n",
       "2019-05-07 00:00:00-04:00  256.80  257.2100  245.1000  247.060   9542822\n",
       "2019-05-08 00:00:00-04:00  246.94  250.5990  244.2000  244.760   5757805\n",
       "2019-05-09 00:00:00-04:00  242.00  243.6800  236.9434  241.980   6455536\n",
       "2019-05-10 00:00:00-04:00  239.75  241.9900  236.0200  239.510   6716345\n",
       "2019-05-13 00:00:00-04:00  232.01  232.4700  224.5000  227.010  10159046\n",
       "2019-05-14 00:00:00-04:00  229.30  234.5000  228.0000  232.120   6820595"
      ],
      "text/html": "<div>\n<style scoped>\n    .dataframe tbody tr th:only-of-type {\n        vertical-align: middle;\n    }\n\n    .dataframe tbody tr th {\n        vertical-align: top;\n    }\n\n    .dataframe thead tr th {\n        text-align: left;\n    }\n</style>\n<table border=\"1\" class=\"dataframe\">\n  <thead>\n    <tr>\n      <th></th>\n      <th colspan=\"5\" halign=\"left\">TSLA</th>\n    </tr>\n    <tr>\n      <th></th>\n      <th>open</th>\n      <th>high</th>\n      <th>low</th>\n      <th>close</th>\n      <th>volume</th>\n    </tr>\n  </thead>\n  <tbody>\n    <tr>\n      <th>2019-05-01 00:00:00-04:00</th>\n      <td>239.00</td>\n      <td>240.0000</td>\n      <td>231.5000</td>\n      <td>234.010</td>\n      <td>10324457</td>\n    </tr>\n    <tr>\n      <th>2019-05-02 00:00:00-04:00</th>\n      <td>245.52</td>\n      <td>247.1300</td>\n      <td>237.7200</td>\n      <td>244.080</td>\n      <td>14881930</td>\n    </tr>\n    <tr>\n      <th>2019-05-03 00:00:00-04:00</th>\n      <td>243.86</td>\n      <td>256.6100</td>\n      <td>243.4900</td>\n      <td>255.040</td>\n      <td>21063497</td>\n    </tr>\n    <tr>\n      <th>2019-05-06 00:00:00-04:00</th>\n      <td>250.10</td>\n      <td>258.3499</td>\n      <td>248.5000</td>\n      <td>255.335</td>\n      <td>9546203</td>\n    </tr>\n    <tr>\n      <th>2019-05-07 00:00:00-04:00</th>\n      <td>256.80</td>\n      <td>257.2100</td>\n      <td>245.1000</td>\n      <td>247.060</td>\n      <td>9542822</td>\n    </tr>\n    <tr>\n      <th>2019-05-08 00:00:00-04:00</th>\n      <td>246.94</td>\n      <td>250.5990</td>\n      <td>244.2000</td>\n      <td>244.760</td>\n      <td>5757805</td>\n    </tr>\n    <tr>\n      <th>2019-05-09 00:00:00-04:00</th>\n      <td>242.00</td>\n      <td>243.6800</td>\n      <td>236.9434</td>\n      <td>241.980</td>\n      <td>6455536</td>\n    </tr>\n    <tr>\n      <th>2019-05-10 00:00:00-04:00</th>\n      <td>239.75</td>\n      <td>241.9900</td>\n      <td>236.0200</td>\n      <td>239.510</td>\n      <td>6716345</td>\n    </tr>\n    <tr>\n      <th>2019-05-13 00:00:00-04:00</th>\n      <td>232.01</td>\n      <td>232.4700</td>\n      <td>224.5000</td>\n      <td>227.010</td>\n      <td>10159046</td>\n    </tr>\n    <tr>\n      <th>2019-05-14 00:00:00-04:00</th>\n      <td>229.30</td>\n      <td>234.5000</td>\n      <td>228.0000</td>\n      <td>232.120</td>\n      <td>6820595</td>\n    </tr>\n  </tbody>\n</table>\n</div>"
     },
     "metadata": {},
     "execution_count": 10
    }
   ],
   "source": [
    "timeframe = \"1D\"\n",
    "\n",
    "tickers = [\"TSLA\"]\n",
    "\n",
    "start_date = pd.Timestamp(\"2019-05-01\", tz=\"America/New_York\").isoformat()\n",
    "end_date = pd.Timestamp(\"2020-05-01\", tz=\"America/New_York\").isoformat()\n",
    "\n",
    "df_ticker = alpaca.get_barset(\n",
    "    tickers,\n",
    "    timeframe,\n",
    "    start=start_date,\n",
    "    end=end_date\n",
    ").df\n",
    "\n",
    "df_ticker.head(10)"
   ]
  },
  {
   "cell_type": "code",
   "execution_count": 11,
   "metadata": {},
   "outputs": [],
   "source": [
    "MCthree_year = MCSimulation(\n",
    "    portfolio_data = df_ticker,\n",
    "    weights = [0.60, 0.40],\n",
    "    num_simulation = 1000,\n",
    "    num_trading_days = 3*252\n",
    ")"
   ]
  },
  {
   "cell_type": "code",
   "execution_count": null,
   "metadata": {},
   "outputs": [],
   "source": []
  }
 ]
}